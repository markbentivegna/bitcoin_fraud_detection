{
 "cells": [
  {
   "cell_type": "code",
   "execution_count": 2,
   "metadata": {},
   "outputs": [
    {
     "name": "stdout",
     "output_type": "stream",
     "text": [
      "/home/ead/iking5/code/bitcoin_fraud_detection\n"
     ]
    }
   ],
   "source": [
    "%cd .."
   ]
  },
  {
   "cell_type": "code",
   "execution_count": 13,
   "metadata": {},
   "outputs": [
    {
     "data": {
      "text/plain": [
       "Generator(\n",
       "  (first): Sequential(\n",
       "    (0): Linear(in_features=165, out_features=1024, bias=True)\n",
       "    (1): ReLU()\n",
       "    (2): Dropout(p=0.5, inplace=False)\n",
       "  )\n",
       "  (mu): Sequential(\n",
       "    (0): Linear(in_features=1024, out_features=512, bias=True)\n",
       "    (1): ReLU()\n",
       "    (2): Dropout(p=0.5, inplace=False)\n",
       "    (3): Linear(in_features=512, out_features=64, bias=True)\n",
       "  )\n",
       "  (logvar): Sequential(\n",
       "    (0): Linear(in_features=1024, out_features=512, bias=True)\n",
       "    (1): ReLU()\n",
       "    (2): Dropout(p=0.5, inplace=False)\n",
       "    (3): Linear(in_features=512, out_features=64, bias=True)\n",
       "  )\n",
       "  (decode): Sequential(\n",
       "    (0): Linear(in_features=64, out_features=512, bias=True)\n",
       "    (1): ReLU()\n",
       "    (2): Dropout(p=0.5, inplace=False)\n",
       "    (3): Linear(in_features=512, out_features=1024, bias=True)\n",
       "    (4): ReLU()\n",
       "    (5): Dropout(p=0.5, inplace=False)\n",
       "    (6): Linear(in_features=1024, out_features=165, bias=True)\n",
       "  )\n",
       ")"
      ]
     },
     "execution_count": 13,
     "metadata": {},
     "output_type": "execute_result"
    }
   ],
   "source": [
    "import torch \n",
    "from models.inductive_graph_gan import Generator \n",
    "from inductive_graphgan import prepare_btc_data\n",
    "\n",
    "g = torch.load('resources/btc_graph_unsplit.pt')\n",
    "_,gsd, hidden, latent = torch.load('saved_models/inductive_gan.pt')\n",
    "gen = Generator(g.x.size(1)-1, hidden, latent)\n",
    "gen.load_state_dict(gsd)\n",
    "gen.eval()"
   ]
  },
  {
   "cell_type": "code",
   "execution_count": 14,
   "metadata": {},
   "outputs": [],
   "source": [
    "x = g.x[:,1:]\n",
    "y = g.y \n",
    "\n",
    "with torch.no_grad():\n",
    "    z = gen.encode(x)"
   ]
  },
  {
   "cell_type": "code",
   "execution_count": 15,
   "metadata": {},
   "outputs": [
    {
     "name": "stdout",
     "output_type": "stream",
     "text": [
      "0\n",
      "1\n",
      "2\n",
      "3\n",
      "4\n"
     ]
    }
   ],
   "source": [
    "from sklearn.ensemble import RandomForestClassifier as RF\n",
    "from sklearn.model_selection import StratifiedKFold\n",
    "from sklearn.metrics import (\n",
    "    f1_score, accuracy_score, precision_score, recall_score\n",
    ")\n",
    "\n",
    "kfold = StratifiedKFold()\n",
    "preds = []\n",
    "ys = []\n",
    "i = 0 \n",
    "for tr, te in kfold.split(z, y):\n",
    "    print(i)\n",
    "    rf = RF(n_jobs=16)\n",
    "    rf.fit(z[tr], y[tr])\n",
    "    pred = rf.predict(z[te])\n",
    "\n",
    "    preds.append(pred)\n",
    "    ys.append(y[te])\n",
    "\n",
    "    i += 1"
   ]
  },
  {
   "cell_type": "code",
   "execution_count": 16,
   "metadata": {},
   "outputs": [
    {
     "name": "stdout",
     "output_type": "stream",
     "text": [
      "Accuracy:  0.9131732669014689\n",
      "Precision:  0.9114754098360656\n",
      "Recall:  0.12233223322332233\n",
      "F1:  0.2157129000969932\n"
     ]
    }
   ],
   "source": [
    "import numpy as np \n",
    "all_preds = torch.from_numpy(np.concatenate(preds))\n",
    "all_ys = torch.cat(ys)\n",
    "\n",
    "# Remove unk \n",
    "is_unk = all_ys == 0  \n",
    "all_preds = all_preds[~is_unk]\n",
    "all_ys = all_ys[~is_unk]\n",
    "\n",
    "# Reindex s.t. mal is 1, benign is 0 \n",
    "all_preds[all_preds == 2] = 0 \n",
    "all_ys[all_ys == 2] = 0 \n",
    "\n",
    "# Get stats\n",
    "print(\"Accuracy: \", accuracy_score(all_ys, all_preds))\n",
    "print(\"Precision: \", precision_score(all_ys, all_preds))\n",
    "print(\"Recall: \", recall_score(all_ys, all_preds))\n",
    "print(\"F1: \", f1_score(all_ys, all_preds))"
   ]
  },
  {
   "cell_type": "code",
   "execution_count": 18,
   "metadata": {},
   "outputs": [
    {
     "name": "stdout",
     "output_type": "stream",
     "text": [
      "Accuracy:  0.9307738452309539\n",
      "Precision:  0.44301765650080255\n",
      "Recall:  0.2548476454293629\n",
      "F1:  0.3235638921453693\n"
     ]
    }
   ],
   "source": [
    "tr_z = z[g.x[:,0] < 35]\n",
    "tr_y = y[g.x[:,0] < 35]\n",
    "\n",
    "is_unk = tr_y == 0 \n",
    "tr_y = tr_y[~is_unk]\n",
    "tr_z = tr_z[~is_unk]\n",
    "tr_y[tr_y == 2] = 0\n",
    "\n",
    "te_z = z[g.x[:,0] >= 35]\n",
    "te_y = y[g.x[:,0] >= 35]\n",
    "\n",
    "is_unk = te_y == 0 \n",
    "te_y = te_y[~is_unk]\n",
    "te_z = te_z[~is_unk]\n",
    "te_y[te_y == 2] = 0 \n",
    "\n",
    "rf = RF(n_jobs=16)\n",
    "rf.fit(tr_z, tr_y)\n",
    "preds = rf.predict(te_z)\n",
    "\n",
    "print(\"Accuracy: \", accuracy_score(te_y, preds))\n",
    "print(\"Precision: \", precision_score(te_y, preds))\n",
    "print(\"Recall: \", recall_score(te_y, preds))\n",
    "print(\"F1: \", f1_score(te_y, preds))"
   ]
  }
 ],
 "metadata": {
  "kernelspec": {
   "display_name": "btc",
   "language": "python",
   "name": "python3"
  },
  "language_info": {
   "codemirror_mode": {
    "name": "ipython",
    "version": 3
   },
   "file_extension": ".py",
   "mimetype": "text/x-python",
   "name": "python",
   "nbconvert_exporter": "python",
   "pygments_lexer": "ipython3",
   "version": "3.10.9"
  },
  "orig_nbformat": 4
 },
 "nbformat": 4,
 "nbformat_minor": 2
}
