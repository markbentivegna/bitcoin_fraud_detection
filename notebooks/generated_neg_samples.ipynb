{
 "cells": [
  {
   "cell_type": "code",
   "execution_count": 3,
   "metadata": {},
   "outputs": [
    {
     "name": "stdout",
     "output_type": "stream",
     "text": [
      "/home/ead/iking5/code/bitcoin_fraud_detection\n"
     ]
    }
   ],
   "source": [
    "%cd .."
   ]
  },
  {
   "cell_type": "code",
   "execution_count": 17,
   "metadata": {},
   "outputs": [
    {
     "data": {
      "text/plain": [
       "GeneratorClassifier(\n",
       "  (first): Sequential(\n",
       "    (0): Linear(in_features=2, out_features=4096, bias=True)\n",
       "    (1): ReLU()\n",
       "    (2): Dropout(p=0.5, inplace=False)\n",
       "  )\n",
       "  (mu): Sequential(\n",
       "    (0): Linear(in_features=4096, out_features=2048, bias=True)\n",
       "    (1): ReLU()\n",
       "    (2): Dropout(p=0.5, inplace=False)\n",
       "    (3): Linear(in_features=2048, out_features=64, bias=True)\n",
       "  )\n",
       "  (logvar): Sequential(\n",
       "    (0): Linear(in_features=4096, out_features=2048, bias=True)\n",
       "    (1): ReLU()\n",
       "    (2): Dropout(p=0.5, inplace=False)\n",
       "    (3): Linear(in_features=2048, out_features=64, bias=True)\n",
       "  )\n",
       "  (decode): Sequential(\n",
       "    (0): Linear(in_features=64, out_features=2048, bias=True)\n",
       "    (1): ReLU()\n",
       "    (2): Dropout(p=0.5, inplace=False)\n",
       "    (3): Linear(in_features=2048, out_features=4096, bias=True)\n",
       "    (4): ReLU()\n",
       "    (5): Dropout(p=0.5, inplace=False)\n",
       "    (6): Linear(in_features=4096, out_features=165, bias=True)\n",
       "  )\n",
       ")"
      ]
     },
     "execution_count": 17,
     "metadata": {},
     "output_type": "execute_result"
    }
   ],
   "source": [
    "import torch \n",
    "from models.inductive_graph_gan import GeneratorClassifier\n",
    "from inductive_graphgan import prepare_btc_data\n",
    "\n",
    "g = torch.load('resources/btc_graph_unsplit.pt')\n",
    "_,gsd, hidden, latent = torch.load('saved_models/inductive_gan_cls.pt')\n",
    "gen = GeneratorClassifier(g.x.size(1)-1, hidden, latent)\n",
    "gen.load_state_dict(gsd)\n",
    "gen.eval()"
   ]
  },
  {
   "cell_type": "code",
   "execution_count": 15,
   "metadata": {},
   "outputs": [],
   "source": [
    "tr_x = g.x[g.x[:,0] < 35][:,1:]\n",
    "tr_y = g.y[g.x[:,0] < 35]\n",
    "\n",
    "is_unk = tr_y == 0 \n",
    "tr_y = tr_y[~is_unk]\n",
    "tr_x = tr_x[~is_unk]\n",
    "tr_y[tr_y == 2] = 0\n",
    "\n",
    "te_x = g.x[g.x[:,0] >= 35][:,1:]\n",
    "te_y = g.y[g.x[:,0] >= 35]\n",
    "\n",
    "is_unk = te_y == 0 \n",
    "te_y = te_y[~is_unk]\n",
    "te_x = te_x[~is_unk]\n",
    "te_y[te_y == 2] = 0 "
   ]
  },
  {
   "cell_type": "code",
   "execution_count": 18,
   "metadata": {},
   "outputs": [
    {
     "name": "stdout",
     "output_type": "stream",
     "text": [
      "Default:\n",
      "Accuracy:  0.9794841031793641\n",
      "Precision:  0.9501822600243013\n",
      "Recall:  0.7220683287165282\n",
      "F1:  0.8205666316894018\n",
      "\n",
      "Synthetic negative samples:\n",
      "Accuracy:  0.9803239352129574\n",
      "Precision:  0.9677819083023544\n",
      "Recall:  0.7211449676823638\n",
      "F1:  0.8264550264550264\n"
     ]
    }
   ],
   "source": [
    "from sklearn.ensemble import RandomForestClassifier as RF \n",
    "from sklearn.metrics import (\n",
    "    accuracy_score, precision_score,\n",
    "    recall_score, f1_score\n",
    ")\n",
    "\n",
    "def cls(tr_x, tr_y, te_x, te_y):\n",
    "    rf = RF(n_jobs=16)\n",
    "    rf.fit(tr_x, tr_y)\n",
    "    preds = rf.predict(te_x)\n",
    "\n",
    "    print(\"Accuracy: \", accuracy_score(te_y, preds))\n",
    "    print(\"Precision: \", precision_score(te_y, preds))\n",
    "    print(\"Recall: \", recall_score(te_y, preds))\n",
    "    print(\"F1: \", f1_score(te_y, preds))\n",
    "\n",
    "print(\"Default:\")\n",
    "cls(tr_x, tr_y, te_x, te_y)\n",
    "\n",
    "# Generate synthetic negative samples\n",
    "num_zeros = (tr_y == 0).sum()\n",
    "input = torch.zeros(num_zeros, 2)\n",
    "input[:,1] = 1. \n",
    "\n",
    "gen.eval()\n",
    "with torch.no_grad():\n",
    "    enhanced = gen.sample(input, variational=True)\n",
    "\n",
    "labels = torch.ones(enhanced.size(0))\n",
    "\n",
    "print(\"\\nSynthetic negative samples:\")\n",
    "cls(torch.cat([tr_x, enhanced]), torch.cat([tr_y, labels]), te_x, te_y)"
   ]
  }
 ],
 "metadata": {
  "kernelspec": {
   "display_name": "btc",
   "language": "python",
   "name": "python3"
  },
  "language_info": {
   "codemirror_mode": {
    "name": "ipython",
    "version": 3
   },
   "file_extension": ".py",
   "mimetype": "text/x-python",
   "name": "python",
   "nbconvert_exporter": "python",
   "pygments_lexer": "ipython3",
   "version": "3.10.9"
  },
  "orig_nbformat": 4
 },
 "nbformat": 4,
 "nbformat_minor": 2
}
